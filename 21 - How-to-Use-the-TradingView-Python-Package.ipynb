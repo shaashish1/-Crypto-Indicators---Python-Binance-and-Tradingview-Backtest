{
 "cells": [
  {
   "cell_type": "code",
   "execution_count": 80,
   "id": "a29ab98a",
   "metadata": {},
   "outputs": [],
   "source": [
    "# Importing the neccessary packages\n",
    "from tradingview_ta import TA_Handler,Interval"
   ]
  },
  {
   "cell_type": "code",
   "execution_count": 81,
   "id": "bf469d69",
   "metadata": {},
   "outputs": [],
   "source": [
    "# Accessing the TradingView handler and the analysis tool\n",
    "share='BTC'\n",
    "symbol=share+'USDT'\n",
    "handler = TA_Handler(\n",
    "    symbol=symbol,\n",
    "    screener=\"Crypto\",\n",
    "    exchange=\"Binance\",\n",
    "    interval=Interval.INTERVAL_1_HOUR)\n",
    "analysis = handler.get_analysis()"
   ]
  },
  {
   "cell_type": "code",
   "execution_count": 85,
   "id": "a73e1458",
   "metadata": {},
   "outputs": [
    {
     "data": {
      "text/plain": [
       "{'RECOMMENDATION': 'BUY', 'BUY': 11, 'SELL': 5, 'NEUTRAL': 10}"
      ]
     },
     "execution_count": 85,
     "metadata": {},
     "output_type": "execute_result"
    }
   ],
   "source": [
    "# Retrieving the summary of indicators as a trading signal\n",
    "analysis.summary"
   ]
  },
  {
   "cell_type": "code",
   "execution_count": 86,
   "id": "41a9e020",
   "metadata": {},
   "outputs": [
    {
     "data": {
      "text/plain": [
       "{'Recommend.Other': -0.18181818,\n",
       " 'Recommend.All': 0.17575758,\n",
       " 'Recommend.MA': 0.53333333,\n",
       " 'RSI': 57.15041735,\n",
       " 'RSI[1]': 60.05120389,\n",
       " 'Stoch.K': 50.5649236,\n",
       " 'Stoch.D': 57.86014701,\n",
       " 'Stoch.K[1]': 60.01339587,\n",
       " 'Stoch.D[1]': 63.70052582,\n",
       " 'CCI20': 31.98321951,\n",
       " 'CCI20[1]': 56.89735775,\n",
       " 'ADX': 24.71248089,\n",
       " 'ADX+DI': 26.26154954,\n",
       " 'ADX-DI': 15.92124305,\n",
       " 'ADX+DI[1]': 27.0859198,\n",
       " 'ADX-DI[1]': 15.83744018,\n",
       " 'AO': 1090.18973529,\n",
       " 'AO[1]': 1210.41202941,\n",
       " 'Mom': 276.01,\n",
       " 'Mom[1]': 416.99,\n",
       " 'MACD.macd': 453.50436675,\n",
       " 'MACD.signal': 516.57959628,\n",
       " 'Rec.Stoch.RSI': 0,\n",
       " 'Stoch.RSI.K': 9.48811577,\n",
       " 'Rec.WR': 0,\n",
       " 'W.R': -67.01329948,\n",
       " 'Rec.BBPower': 0,\n",
       " 'BBPower': 138.69535321,\n",
       " 'Rec.UO': 0,\n",
       " 'UO': 42.01818726,\n",
       " 'close': 66832.01,\n",
       " 'EMA5': 66954.86927738,\n",
       " 'SMA5': 66928.432,\n",
       " 'EMA10': 66918.84521403,\n",
       " 'SMA10': 67069.815,\n",
       " 'EMA20': 66609.89582029,\n",
       " 'SMA20': 66648.4335,\n",
       " 'EMA30': 66299.77155064,\n",
       " 'SMA30': 66155.16366667,\n",
       " 'EMA50': 65889.23481499,\n",
       " 'SMA50': 65585.2272,\n",
       " 'EMA100': 65597.08177478,\n",
       " 'SMA100': 65302.7889,\n",
       " 'EMA200': 65937.06650439,\n",
       " 'SMA200': 65592.17605,\n",
       " 'Rec.Ichimoku': 0,\n",
       " 'Ichimoku.BLine': 66170.005,\n",
       " 'Rec.VWMA': 1,\n",
       " 'VWMA': 66618.62812831,\n",
       " 'Rec.HullMA9': -1,\n",
       " 'HullMA9': 66878.9692963,\n",
       " 'Pivot.M.Classic.S3': 49284.99666667,\n",
       " 'Pivot.M.Classic.S2': 57465.99666667,\n",
       " 'Pivot.M.Classic.S1': 62337.99333333,\n",
       " 'Pivot.M.Classic.Middle': 65646.99666667,\n",
       " 'Pivot.M.Classic.R1': 70518.99333333,\n",
       " 'Pivot.M.Classic.R2': 73827.99666667,\n",
       " 'Pivot.M.Classic.R3': 82008.99666667,\n",
       " 'Pivot.M.Fibonacci.S3': 57465.99666667,\n",
       " 'Pivot.M.Fibonacci.S2': 60591.13866667,\n",
       " 'Pivot.M.Fibonacci.S1': 62521.85466667,\n",
       " 'Pivot.M.Fibonacci.Middle': 65646.99666667,\n",
       " 'Pivot.M.Fibonacci.R1': 68772.13866667,\n",
       " 'Pivot.M.Fibonacci.R2': 70702.85466667,\n",
       " 'Pivot.M.Fibonacci.R3': 73827.99666667,\n",
       " 'Pivot.M.Camarilla.S3': 64960.215,\n",
       " 'Pivot.M.Camarilla.S2': 65710.14,\n",
       " 'Pivot.M.Camarilla.S1': 66460.065,\n",
       " 'Pivot.M.Camarilla.Middle': 65646.99666667,\n",
       " 'Pivot.M.Camarilla.R1': 67959.915,\n",
       " 'Pivot.M.Camarilla.R2': 68709.84,\n",
       " 'Pivot.M.Camarilla.R3': 69459.765,\n",
       " 'Pivot.M.Woodie.S3': 54938.5,\n",
       " 'Pivot.M.Woodie.S2': 57856.75,\n",
       " 'Pivot.M.Woodie.S1': 63119.5,\n",
       " 'Pivot.M.Woodie.Middle': 66037.75,\n",
       " 'Pivot.M.Woodie.R1': 71300.5,\n",
       " 'Pivot.M.Woodie.R2': 74218.75,\n",
       " 'Pivot.M.Woodie.R3': 79481.5,\n",
       " 'Pivot.M.Demark.S1': 59901.995,\n",
       " 'Pivot.M.Demark.Middle': 64428.9975,\n",
       " 'Pivot.M.Demark.R1': 68082.995,\n",
       " 'open': 66994.32,\n",
       " 'P.SAR': 67700.70294,\n",
       " 'BB.lower': 65381.45447392,\n",
       " 'BB.upper': 67915.41252608,\n",
       " 'AO[2]': 1375.45047059,\n",
       " 'volume': 238.209,\n",
       " 'change': -0.24228916,\n",
       " 'low': 66800,\n",
       " 'high': 67020}"
      ]
     },
     "execution_count": 86,
     "metadata": {},
     "output_type": "execute_result"
    }
   ],
   "source": [
    "# Retrieving the calculated indicators\n",
    "analysis.indicators"
   ]
  },
  {
   "cell_type": "code",
   "execution_count": 87,
   "id": "28481f7b",
   "metadata": {},
   "outputs": [
    {
     "data": {
      "text/plain": [
       "{'RECOMMENDATION': 'SELL',\n",
       " 'BUY': 0,\n",
       " 'SELL': 2,\n",
       " 'NEUTRAL': 9,\n",
       " 'COMPUTE': {'RSI': 'NEUTRAL',\n",
       "  'STOCH.K': 'NEUTRAL',\n",
       "  'CCI': 'NEUTRAL',\n",
       "  'ADX': 'NEUTRAL',\n",
       "  'AO': 'NEUTRAL',\n",
       "  'Mom': 'SELL',\n",
       "  'MACD': 'SELL',\n",
       "  'Stoch.RSI': 'NEUTRAL',\n",
       "  'W%R': 'NEUTRAL',\n",
       "  'BBP': 'NEUTRAL',\n",
       "  'UO': 'NEUTRAL'}}"
      ]
     },
     "execution_count": 87,
     "metadata": {},
     "output_type": "execute_result"
    }
   ],
   "source": [
    "# Indicator type: oscillators\n",
    "analysis.oscillators"
   ]
  },
  {
   "cell_type": "code",
   "execution_count": 88,
   "id": "af21ecb8",
   "metadata": {},
   "outputs": [
    {
     "data": {
      "text/plain": [
       "'SELL'"
      ]
     },
     "execution_count": 88,
     "metadata": {},
     "output_type": "execute_result"
    }
   ],
   "source": [
    "# Accessing the oscillators separately\n",
    "analysis.oscillators['COMPUTE']['MACD']"
   ]
  },
  {
   "cell_type": "code",
   "execution_count": 89,
   "id": "b80f772d",
   "metadata": {},
   "outputs": [
    {
     "data": {
      "text/plain": [
       "{'RECOMMENDATION': 'STRONG_BUY',\n",
       " 'BUY': 11,\n",
       " 'SELL': 3,\n",
       " 'NEUTRAL': 1,\n",
       " 'COMPUTE': {'EMA10': 'SELL',\n",
       "  'SMA10': 'SELL',\n",
       "  'EMA20': 'BUY',\n",
       "  'SMA20': 'BUY',\n",
       "  'EMA30': 'BUY',\n",
       "  'SMA30': 'BUY',\n",
       "  'EMA50': 'BUY',\n",
       "  'SMA50': 'BUY',\n",
       "  'EMA100': 'BUY',\n",
       "  'SMA100': 'BUY',\n",
       "  'EMA200': 'BUY',\n",
       "  'SMA200': 'BUY',\n",
       "  'Ichimoku': 'NEUTRAL',\n",
       "  'VWMA': 'BUY',\n",
       "  'HullMA': 'SELL'}}"
      ]
     },
     "execution_count": 89,
     "metadata": {},
     "output_type": "execute_result"
    }
   ],
   "source": [
    "# Indicator type: moving averages\n",
    "analysis.moving_averages"
   ]
  },
  {
   "cell_type": "code",
   "execution_count": 90,
   "id": "99e5af81",
   "metadata": {},
   "outputs": [
    {
     "data": {
      "text/plain": [
       "'BUY'"
      ]
     },
     "execution_count": 90,
     "metadata": {},
     "output_type": "execute_result"
    }
   ],
   "source": [
    "# Accessing the moving averages separately\n",
    "analysis.moving_averages['COMPUTE']['SMA200']"
   ]
  },
  {
   "cell_type": "code",
   "execution_count": 91,
   "id": "e4e22e37",
   "metadata": {},
   "outputs": [
    {
     "data": {
      "text/plain": [
       "'BUY'"
      ]
     },
     "execution_count": 91,
     "metadata": {},
     "output_type": "execute_result"
    }
   ],
   "source": [
    "# Accessing the summary of the indicators\n",
    "analysis.summary['RECOMMENDATION']"
   ]
  },
  {
   "cell_type": "code",
   "execution_count": 93,
   "id": "1f750d68",
   "metadata": {},
   "outputs": [
    {
     "name": "stdout",
     "output_type": "stream",
     "text": [
      "Buy Signals:  ['BTC', 'ETH', 'ADA', 'BNB', 'DOT', 'MATIC', 'XRP', 'SOL', 'MDT', 'SSV', 'EDU', 'ARK', 'GRT', 'DOGE', 'LINK', 'AVAX', 'ATOM', 'UNI', 'ARB', 'BCH', 'STORJ', 'LINA', 'WBTC', 'FTM', 'LTC', 'SHIB', 'FIL']\n",
      "Sell Signals:  ['TRX']\n"
     ]
    }
   ],
   "source": [
    "# Filtering the cryptocurrencies based on your desired indicator\n",
    "itemList=['BTC','ETH','ADA','BNB','DOT','MATIC','XRP','SOL','TRX','MDT','SSV','EDU','ARK','GRT','DOGE','LINK','APT','AVAX','ATOM','UNI','ARB','BCH','STORJ','LINA','WBTC','FTM','LTC','SHIB','FIL']\n",
    "buyShares=[]\n",
    "sellShares=[]\n",
    "for share in itemList:\n",
    "    symbol=share+'USDT'\n",
    "    handler = TA_Handler(\n",
    "        symbol=symbol,\n",
    "        screener=\"Crypto\",\n",
    "        exchange=\"Binance\",\n",
    "        interval=Interval.INTERVAL_4_HOURS)\n",
    "    analysis = handler.get_analysis()\n",
    "    signal=analysis.summary['RECOMMENDATION']\n",
    "    if(signal in ['BUY','STRONG_BUY']):\n",
    "        buyShares.append(share)\n",
    "    if(signal in ['SELL','STRONG_SELL']):\n",
    "        sellShares.append(share)\n",
    "print('Buy Signals: ',buyShares)\n",
    "print('Sell Signals: ',sellShares)"
   ]
  },
  {
   "cell_type": "code",
   "execution_count": null,
   "id": "1f43753b",
   "metadata": {},
   "outputs": [],
   "source": []
  },
  {
   "cell_type": "code",
   "execution_count": null,
   "id": "999b4446",
   "metadata": {},
   "outputs": [],
   "source": []
  },
  {
   "cell_type": "code",
   "execution_count": null,
   "id": "6a62ceeb",
   "metadata": {},
   "outputs": [],
   "source": []
  },
  {
   "cell_type": "code",
   "execution_count": null,
   "id": "4dcf6238",
   "metadata": {},
   "outputs": [],
   "source": []
  },
  {
   "cell_type": "code",
   "execution_count": null,
   "id": "c1b73b16",
   "metadata": {},
   "outputs": [],
   "source": []
  },
  {
   "cell_type": "code",
   "execution_count": null,
   "id": "671318e4",
   "metadata": {},
   "outputs": [],
   "source": []
  },
  {
   "cell_type": "code",
   "execution_count": null,
   "id": "863e4434",
   "metadata": {},
   "outputs": [],
   "source": []
  }
 ],
 "metadata": {
  "kernelspec": {
   "display_name": "Python 3 (ipykernel)",
   "language": "python",
   "name": "python3"
  },
  "language_info": {
   "codemirror_mode": {
    "name": "ipython",
    "version": 3
   },
   "file_extension": ".py",
   "mimetype": "text/x-python",
   "name": "python",
   "nbconvert_exporter": "python",
   "pygments_lexer": "ipython3",
   "version": "3.8.10"
  }
 },
 "nbformat": 4,
 "nbformat_minor": 5
}
